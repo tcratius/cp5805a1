{
 "cells": [
  {
   "cell_type": "code",
   "execution_count": 1,
   "metadata": {},
   "outputs": [],
   "source": [
    "import os\n",
    "import re\n",
    "import sys\n",
    "import math\n",
    "\n"
   ]
  },
  {
   "cell_type": "code",
   "execution_count": 2,
   "metadata": {},
   "outputs": [],
   "source": [
    "def exit():\n",
    "    sys.exit(0)"
   ]
  },
  {
   "cell_type": "code",
   "execution_count": 3,
   "metadata": {},
   "outputs": [],
   "source": [
    "def welcome_screen():\n",
    "    print('Wellcome to The Basis Statisitician\\n\\n')\n",
    "    print('Please choose from the following options\\n\\n')\n",
    "    print('\\t1 - Read Instructions\\n\\n')\n",
    "    print('\\t2 - Generate a Simple Report\\n\\n')\n",
    "    print('\\t3 - Generate a Full Report\\n\\n')\n",
    "    print('\\t4 - Quit\\n\\n')\n",
    "    \n",
    "    result = input('Select Option >')\n",
    "    return result"
   ]
  },
  {
   "cell_type": "code",
   "execution_count": 4,
   "metadata": {},
   "outputs": [],
   "source": [
    "def instructions():\n",
    "    os.system('cls')\n",
    "    print('* Generate a Simple Report')\n",
    "    print('* ~~~~~~~~~~~~~~~~~~~~~~~~')\n",
    "    print('* Generates count of values, sum total of all values and the average')\n",
    "    print('* off all five numbers')\n",
    "    print('* Generate a Full Report')\n",
    "    print('* ~~~~~~~~~~~~~~~~~~~~~~')\n",
    "    print('* Input for report')\n",
    "    print('* ~~~~~~~~~~~~~~~~')\n",
    "    print('* When asked, input 5 positive numbers seperated by a space then press')\n",
    "    print('* ENTER')\n",
    "    input('\\n\\nWhen finished reading Press Enter: ')\n",
    "    main()"
   ]
  },
  {
   "cell_type": "code",
   "execution_count": 5,
   "metadata": {},
   "outputs": [],
   "source": [
    "def get_numbers():\n",
    "    print('Type in 5 number seperated by a space')\n",
    "    result = input('Numbers >')\n",
    "    numbers = list(map(str, result.split()))\n",
    "    return numbers"
   ]
  },
  {
   "cell_type": "code",
   "execution_count": 6,
   "metadata": {},
   "outputs": [],
   "source": [
    "def next_choice():\n",
    "    print('\\n\\nOptions: ')\n",
    "    print('1 to repeat test')\n",
    "    print('2 for main menu') \n",
    "    print('3 to exit\\n')\n",
    "    result = input('Choice >')\n",
    "    return result"
   ]
  },
  {
   "cell_type": "code",
   "execution_count": 7,
   "metadata": {},
   "outputs": [],
   "source": [
    "def choice(number):\n",
    "    result = next_choice()\n",
    "    pattern = re.compile(r'[^\\1\\2\\3$]')\n",
    "    match = re.search(pattern, str(result))\n",
    "    if match:\n",
    "        if result == '1':\n",
    "            print('\\n\\nNew Statistical test')\n",
    "            check_list(number)\n",
    "        elif result == '2':\n",
    "            main()\n",
    "        elif result == '3':\n",
    "            print('\\n\\nGood-Bye')\n",
    "            exit()\n",
    "        "
   ]
  },
  {
   "cell_type": "code",
   "execution_count": 8,
   "metadata": {},
   "outputs": [],
   "source": [
    "def mean(List):\n",
    "    result = sum(List)/len(List)\n",
    "    return result"
   ]
  },
  {
   "cell_type": "code",
   "execution_count": 9,
   "metadata": {},
   "outputs": [],
   "source": [
    "def std(List, Mean):\n",
    "    for i in range(5):\n",
    "        result = math.pow((List[i] - Mean),2)/5\n",
    "        result = math.sqrt(result)\n",
    "    return result\n"
   ]
  },
  {
   "cell_type": "code",
   "execution_count": 10,
   "metadata": {},
   "outputs": [],
   "source": [
    "def isfloat(obj):\n",
    "    [float(i) for i in obj]   \n",
    "    return obj"
   ]
  },
  {
   "cell_type": "code",
   "execution_count": 11,
   "metadata": {},
   "outputs": [],
   "source": [
    "def num_values(List):\n",
    "    result = len(List)\n",
    "    return result"
   ]
  },
  {
   "cell_type": "code",
   "execution_count": 12,
   "metadata": {},
   "outputs": [],
   "source": [
    "def full_stats(List, number):\n",
    "    result = [float(i) for i in List]\n",
    "    Number_of_Values = num_values(result)\n",
    "    Min = min(result)\n",
    "    Max = max(result)\n",
    "    Mean = mean(result)\n",
    "    Std = std(result, Mean)\n",
    "    print('\\n\\n', Number_of_Values, Total, Min, Max, Mean, Std)\n",
    "    choice(number)"
   ]
  },
  {
   "cell_type": "code",
   "execution_count": 13,
   "metadata": {},
   "outputs": [],
   "source": [
    "def simple_stats(List, number):\n",
    "    result = [float(i) for i in List]\n",
    "    Number_of_Values = num_values(result)\n",
    "    Total = sum(result)\n",
    "    Mean = mean(result)\n",
    "    print('\\n\\n', Number_of_Values , Total, Mean)\n",
    "    choice(number)"
   ]
  },
  {
   "cell_type": "code",
   "execution_count": 14,
   "metadata": {},
   "outputs": [],
   "source": [
    "def isiterable(obj):\n",
    "    if iter(obj): # iter function\n",
    "        return True\n",
    "    else:  # TypeError: is not iterable\n",
    "        return False"
   ]
  },
  {
   "cell_type": "code",
   "execution_count": 15,
   "metadata": {},
   "outputs": [],
   "source": [
    "def check_if_right_input(result):\n",
    "    pattern = re.compile(r\"[^\\d+$]\")\n",
    "    print(result)\n",
    "    match = re.search(pattern, str(result))\n",
    "    # isint\n",
    "    if match:\n",
    "        if isiterable(result) and len(result) == 5:\n",
    "            return True\n",
    "    else:\n",
    "        print('error message invalid input')\n",
    "        return False"
   ]
  },
  {
   "cell_type": "code",
   "execution_count": 16,
   "metadata": {},
   "outputs": [],
   "source": [
    "def check_list(number):\n",
    "    escape = False\n",
    "    while not escape:\n",
    "        result = get_numbers()\n",
    "        \n",
    "        escape = check_if_right_input(result)\n",
    "        if escape and number == '2':\n",
    "            simple_stats(result, number)\n",
    "        elif escape and number == '3':\n",
    "            full_stats(result, number)\n",
    "        \n",
    "        \n",
    "    "
   ]
  },
  {
   "cell_type": "code",
   "execution_count": 17,
   "metadata": {},
   "outputs": [],
   "source": [
    "def user_input_option(raw_input):\n",
    "    pattern = re.compile(r'[^\\1\\2\\3\\4$]')\n",
    "    match = re.search(pattern, str(raw_input))\n",
    "    if match:\n",
    "        if raw_input == '1':\n",
    "            instructions()\n",
    "        elif raw_input == '2':\n",
    "            check_list(raw_input)\n",
    "        elif raw_input == '3':\n",
    "            check_list(raw_input)\n",
    "        elif raw_input == '4':\n",
    "            exit()\n",
    "        else:\n",
    "            return False"
   ]
  },
  {
   "cell_type": "code",
   "execution_count": 18,
   "metadata": {},
   "outputs": [],
   "source": [
    "def main():\n",
    "    Escape = False\n",
    "    while not Escape:\n",
    "        os.system('cls')\n",
    "        result = welcome_screen()\n",
    "        Escape = user_input_option(result)\n",
    "      "
   ]
  },
  {
   "cell_type": "code",
   "execution_count": null,
   "metadata": {},
   "outputs": [],
   "source": []
  },
  {
   "cell_type": "code",
   "execution_count": null,
   "metadata": {},
   "outputs": [
    {
     "name": "stdout",
     "output_type": "stream",
     "text": [
      "Wellcome to The Basis Statisitician\n",
      "\n",
      "\n",
      "Please choose from the following options\n",
      "\n",
      "\n",
      "\t1 - Read Instructions\n",
      "\n",
      "\n",
      "\t2 - Generate a Simple Report\n",
      "\n",
      "\n",
      "\t3 - Generate a Full Report\n",
      "\n",
      "\n",
      "\t4 - Quit\n",
      "\n",
      "\n",
      "Select Option >2\n",
      "Type in 5 number seperated by a space\n",
      "Numbers >5 5 5 5 5\n",
      "['5', '5', '5', '5', '5']\n",
      "\n",
      "\n",
      " 5 25.0 5.0\n",
      "\n",
      "\n",
      "Options: \n",
      "1 to repeat test\n",
      "2 for main menu\n",
      "3 to exit\n",
      "\n",
      "Choice >1\n",
      "\n",
      "\n",
      "New Statistical test\n",
      "Wellcome to The Basis Statisitician\n",
      "\n",
      "\n",
      "Please choose from the following options\n",
      "\n",
      "\n",
      "\t1 - Read Instructions\n",
      "\n",
      "\n",
      "\t2 - Generate a Simple Report\n",
      "\n",
      "\n",
      "\t3 - Generate a Full Report\n",
      "\n",
      "\n",
      "\t4 - Quit\n",
      "\n",
      "\n"
     ]
    }
   ],
   "source": [
    "main()"
   ]
  },
  {
   "cell_type": "markdown",
   "metadata": {},
   "source": [
    "##### "
   ]
  }
 ],
 "metadata": {
  "kernelspec": {
   "display_name": "Python 3",
   "language": "python",
   "name": "python3"
  },
  "language_info": {
   "codemirror_mode": {
    "name": "ipython",
    "version": 3
   },
   "file_extension": ".py",
   "mimetype": "text/x-python",
   "name": "python",
   "nbconvert_exporter": "python",
   "pygments_lexer": "ipython3",
   "version": "3.6.5"
  }
 },
 "nbformat": 4,
 "nbformat_minor": 2
}
